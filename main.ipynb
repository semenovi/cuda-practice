{
  "nbformat": 4,
  "nbformat_minor": 0,
  "metadata": {
    "colab": {
      "provenance": [],
      "collapsed_sections": [],
      "include_colab_link": true
    },
    "kernelspec": {
      "name": "python3",
      "display_name": "Python 3"
    },
    "language_info": {
      "name": "python"
    },
    "accelerator": "GPU"
  },
  "cells": [
    {
      "cell_type": "markdown",
      "metadata": {
        "id": "view-in-github",
        "colab_type": "text"
      },
      "source": [
        "<a href=\"https://colab.research.google.com/github/semenovi/cuda-practice/blob/main/main.ipynb\" target=\"_parent\"><img src=\"https://colab.research.google.com/assets/colab-badge.svg\" alt=\"Open In Colab\"/></a>"
      ]
    },
    {
      "cell_type": "code",
      "execution_count": 36,
      "metadata": {
        "id": "4WVu7YbHQ622",
        "colab": {
          "base_uri": "https://localhost:8080/"
        },
        "outputId": "b5b85441-cd9b-4481-c90e-4cd7ed9886b3"
      },
      "outputs": [
        {
          "output_type": "stream",
          "name": "stdout",
          "text": [
            "Overwriting cudabasic.cu\n"
          ]
        }
      ],
      "source": [
        "%%writefile cudabasic.cu\n",
        "#include <stdio.h>\n",
        "#include <cuda_runtime.h>\n",
        "__global__ void vectorAdd(const float *A, const float *B, float *C, int numElements)\n",
        "{\n",
        "  int i = blockDim.x * blockIdx.x + threadIdx.x;\n",
        "  if (i < numElements)\n",
        "  {\n",
        "    C[i] = A[i] + B[i];\n",
        "  }\n",
        "}\n",
        "\n",
        "\n",
        "__global__ void isMatrixDiagonal ( float * A, int numElements, int * r )\n",
        "{\n",
        "  int i = blockDim.x * blockIdx.x + threadIdx.x;\n",
        "  if (i < numElements)\n",
        "  {\n",
        "    if (sqrt( (float) i) !=  (int) sqrt( (float) i))\n",
        "    {\n",
        "      if (A[i] != 0)\n",
        "      {\n",
        "        r[0] = 0;\n",
        "      }\n",
        "    }\n",
        "  }\n",
        "    \n",
        "}\n",
        "\n",
        "\n",
        "\n",
        "\n",
        "int main(void)\n",
        "{\n",
        "  // Error code to check return values for CUDA calls\n",
        "\n",
        "  cudaError_t err = cudaSuccess;\n",
        "\n",
        "  // Print the vector length to be used, and compute its size\n",
        "  //Выведите длину вектора, который будет использоваться, и вычислите его размер\n",
        "\n",
        "  int numElements = 62500;\n",
        "  size_t size = numElements * sizeof(float);\n",
        "  printf(\"[Vector addition of %d elements]\\n\", numElements);\n",
        "\n",
        "  // Allocate the host input vector A\n",
        "  //Выделите входной вектор хоста A\n",
        "\n",
        "  float *h_A = (float *)malloc(size);\n",
        "\n",
        "  int *h_r = (int *)malloc(sizeof(int));\n",
        "\n",
        "  // Verify that allocations succeeded\n",
        "  //Убедитесь, что распределение прошло успешно\n",
        "\n",
        "  if (h_A == NULL)\n",
        "  {\n",
        "    fprintf(stderr, \"Failed to allocate host vectors!\\n\");\n",
        "    exit(EXIT_FAILURE);\n",
        "  }\n",
        "  // Initialize the host input vectors\n",
        "  for (int i = 0; i < numElements; ++i)\n",
        "  {\n",
        "    h_A[i] = rand()/(float)RAND_MAX;\n",
        "  }\n",
        "\n",
        "  h_r[0] = 1;\n",
        "\n",
        "  // Allocate the device input vector A\n",
        "  //Выделите входной вектор устройства A\n",
        "\n",
        "  float *d_A = NULL;\n",
        "  err = cudaMalloc((void **)&d_A, size);\n",
        "  if (err != cudaSuccess)\n",
        "  {\n",
        "    fprintf(stderr, \"Failed to allocate device vector A (error code %s)!\\n\", cudaGetErrorString(err));\n",
        "    exit(EXIT_FAILURE);\n",
        "  }\n",
        "\n",
        "  int *d_r = NULL;\n",
        "  err = cudaMalloc((void **)&d_r, sizeof(int));\n",
        "  if (err != cudaSuccess)\n",
        "  {\n",
        "    fprintf(stderr, \"Failed to allocate device r (error code %s)!\\n\", cudaGetErrorString(err));\n",
        "    exit(EXIT_FAILURE);\n",
        "  }\n",
        "\n",
        "  // Copy the host input vector A in host memory to the device input vectors in device memory\n",
        "  // Скопируйте входной вектор хоста A из памяти хоста в входной вектор устройства в памяти устройства\n",
        "\n",
        "  printf(\"Copy input data from the host memory to the CUDA device\\n\");\n",
        "  err = cudaMemcpy(d_A, h_A, size, cudaMemcpyHostToDevice);\n",
        "  if (err != cudaSuccess)\n",
        "  {\n",
        "    fprintf(stderr, \"Failed to copy vector A from host to device (error code %s)!\\n\", cudaGetErrorString(err));\n",
        "    exit(EXIT_FAILURE);\n",
        "  }\n",
        "\n",
        "  printf(\"Copy input data from the host memory to the CUDA device\\n\");\n",
        "  err = cudaMemcpy(d_r, h_r, size, cudaMemcpyHostToDevice);\n",
        "  if (err != cudaSuccess)\n",
        "  {\n",
        "    fprintf(stderr, \"Failed to copy r from host to device (error code %s)!\\n\", cudaGetErrorString(err));\n",
        "    exit(EXIT_FAILURE);\n",
        "  }\n",
        "  \n",
        "  // Launch the Vector Add CUDA Kernel\n",
        "  // Запустите Векторное ядро Add CUDA\n",
        "  int threadsPerBlock = 256;\n",
        "  int blocksPerGrid =(numElements + threadsPerBlock - 1) / threadsPerBlock;\n",
        "  printf(\"CUDA kernel launch with %d blocks of %d threads\\n\", blocksPerGrid, threadsPerBlock);\n",
        "  isMatrixDiagonal<<<blocksPerGrid, threadsPerBlock>>>(d_A, numElements, d_r);\n",
        "  err = cudaGetLastError();\n",
        "  if (err != cudaSuccess)\n",
        "  {\n",
        "    fprintf(stderr, \"Failed to launch isMatrixDiagonal kernel (error code %s)!\\n\", cudaGetErrorString(err));\n",
        "    exit(EXIT_FAILURE);\n",
        "  }\n",
        "\n",
        "  // Copy the device result vector in device memory to the host result vector in host memory.\n",
        "  // Скопируйте вектор результатов устройства из памяти устройства в вектор результатов хоста в памяти хоста.\n",
        "\n",
        "  printf(\"Copy output data from the CUDA device to the host memory\\n\");\n",
        "  err = cudaMemcpy(h_r, d_r, size, cudaMemcpyDeviceToHost);\n",
        "  if (err != cudaSuccess)\n",
        "  {\n",
        "    fprintf(stderr, \"Failed to copy int r from device to host (error code %s)!\\n\", cudaGetErrorString(err));\n",
        "    exit(EXIT_FAILURE);\n",
        "  }\n",
        "  // Verify that the result vector is correct\n",
        "  int *ch_r = (int *)malloc(sizeof(int));\n",
        "  int ii = 0;\n",
        "  for (; ii < numElements; ++ii)\n",
        "  {\n",
        "    if (sqrt( (float) ii) !=  (int) sqrt( (float) ii))\n",
        "    {\n",
        "      if (h_A[ii] != 0)\n",
        "      {\n",
        "        ch_r[0] = 0;\n",
        "        break;\n",
        "      }\n",
        "    }\n",
        "  }\n",
        "  if (ch_r[0] != h_r[0])\n",
        "  {\n",
        "    fprintf(stderr, \"Result verification failed at element %d!\\n\", ii);\n",
        "    exit(EXIT_FAILURE);\n",
        "  }\n",
        "  printf(\"Test PASSED\\n\");\n",
        "\n",
        "  // Free device global memory\n",
        "  // Свободная глобальная память устройства\n",
        "\n",
        "  err = cudaFree(d_A);\n",
        "  if (err != cudaSuccess)\n",
        "  {\n",
        "    fprintf(stderr, \"Failed to free device vector A (error code %s)!\\n\", cudaGetErrorString(err));\n",
        "    exit(EXIT_FAILURE);\n",
        "  }\n",
        "  err = cudaFree(d_r);\n",
        "  if (err != cudaSuccess)\n",
        "  {\n",
        "    fprintf(stderr, \"Failed to free device r (error code %s)!\\n\", cudaGetErrorString(err));\n",
        "  exit(EXIT_FAILURE);\n",
        "  // Free host memory\n",
        "  // Свободная память хоста\n",
        "  free(h_A);\n",
        "  free(h_r);\n",
        "  printf(\"Done\\n\");\n",
        "  return 0;\n",
        "}\n",
        "}"
      ]
    },
    {
      "cell_type": "code",
      "source": [
        "!nvcc -o cudabasic cudabasic.cu"
      ],
      "metadata": {
        "id": "WeCluDL8XU_o"
      },
      "execution_count": 37,
      "outputs": []
    },
    {
      "cell_type": "code",
      "source": [
        "!./cudabasic"
      ],
      "metadata": {
        "colab": {
          "base_uri": "https://localhost:8080/"
        },
        "id": "-o-0gf-vXWh2",
        "outputId": "35edde6b-f263-4207-efff-d9e99f98ffb8"
      },
      "execution_count": 38,
      "outputs": [
        {
          "output_type": "stream",
          "name": "stdout",
          "text": [
            "[Vector addition of 62500 elements]\n",
            "Copy input data from the host memory to the CUDA device\n",
            "Copy input data from the host memory to the CUDA device\n",
            "Failed to copy r from host to device (error code invalid argument)!\n"
          ]
        }
      ]
    },
    {
      "cell_type": "markdown",
      "source": [
        "/////////////////////////////////////////////////////////////////////////////////////////////////////////////////////////////////////////////////////////////////////////////////////////////////////////"
      ],
      "metadata": {
        "id": "PZ_nYPfHeUw_"
      }
    },
    {
      "cell_type": "markdown",
      "source": [
        "/////////////////////////////////////////////////////////////////////////////////////////////////////////////////////////////////////////////////////////////////////////////////////////////////////////"
      ],
      "metadata": {
        "id": "0Af_aBweegTX"
      }
    }
  ]
}