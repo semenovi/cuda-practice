{
  "nbformat": 4,
  "nbformat_minor": 0,
  "metadata": {
    "colab": {
      "provenance": [],
      "authorship_tag": "ABX9TyP9ItukJYGb1KBjHn+hutFL",
      "include_colab_link": true
    },
    "kernelspec": {
      "name": "python3",
      "display_name": "Python 3"
    },
    "language_info": {
      "name": "python"
    },
    "accelerator": "GPU",
    "gpuClass": "standard"
  },
  "cells": [
    {
      "cell_type": "markdown",
      "metadata": {
        "id": "view-in-github",
        "colab_type": "text"
      },
      "source": [
        "<a href=\"https://colab.research.google.com/github/semenovi/cuda-practice/blob/main/task_3.ipynb\" target=\"_parent\"><img src=\"https://colab.research.google.com/assets/colab-badge.svg\" alt=\"Open In Colab\"/></a>"
      ]
    },
    {
      "cell_type": "markdown",
      "source": [
        "\n",
        "\n",
        "---\n",
        "\n",
        "CUDA"
      ],
      "metadata": {
        "id": "9IDRBcQqV_Pr"
      }
    },
    {
      "cell_type": "markdown",
      "source": [
        "removing cuda-related packages"
      ],
      "metadata": {
        "id": "Xs2JAEWTR3f6"
      }
    },
    {
      "cell_type": "code",
      "execution_count": null,
      "metadata": {
        "id": "nzCupxF2RkNl"
      },
      "outputs": [],
      "source": [
        "!apt-get --purge remove cuda nvidia* libnvidia-*\n",
        "!dpkg -l | grep cuda- | awk '{print $2}' | xargs -n1 dpkg --purge\n",
        "!apt-get remove cuda-*\n",
        "!apt autoremove\n",
        "!apt-get update\n"
      ]
    },
    {
      "cell_type": "markdown",
      "source": [
        "install cuda"
      ],
      "metadata": {
        "id": "hulG0S91R_yC"
      }
    },
    {
      "cell_type": "code",
      "source": [
        "!wget  --no-clobber https://developer.download.nvidia.com/compute/cuda/repos/ubuntu1804/x86_64/cuda-repo-ubuntu1804_10.0.130-1_amd64.deb\n",
        "!dpkg -i cuda-repo-ubuntu1804_10.0.130-1_amd64.deb\n",
        "!sudo apt-key adv --fetch-keys https://developer.download.nvidia.com/compute/cuda/repos/ubuntu1804/x86_64/7fa2af80.pub\n",
        "!apt-get update\n",
        "!apt-get install cuda-10-0"
      ],
      "metadata": {
        "id": "_gey0EcYSDpS"
      },
      "execution_count": null,
      "outputs": []
    },
    {
      "cell_type": "markdown",
      "source": [
        "check the installation"
      ],
      "metadata": {
        "id": "FdiSwi2aUaQ_"
      }
    },
    {
      "cell_type": "code",
      "source": [
        "!nvcc --version"
      ],
      "metadata": {
        "id": "4v8fvPGOUc0P"
      },
      "execution_count": null,
      "outputs": []
    },
    {
      "cell_type": "markdown",
      "source": [
        "install nvcc to cuda programming in c++"
      ],
      "metadata": {
        "id": "N9tZt4AOUhyX"
      }
    },
    {
      "cell_type": "code",
      "source": [
        "!pip install git+https://github.com/andreinechaev/nvcc4jupyter.git"
      ],
      "metadata": {
        "id": "pj5QvcSeUlyp"
      },
      "execution_count": null,
      "outputs": []
    },
    {
      "cell_type": "markdown",
      "source": [
        "load this"
      ],
      "metadata": {
        "id": "rGhbX4aQVtlY"
      }
    },
    {
      "cell_type": "code",
      "source": [
        "%load_ext nvcc_plugin"
      ],
      "metadata": {
        "id": "w6Dnl96tVw1w"
      },
      "execution_count": null,
      "outputs": []
    },
    {
      "cell_type": "markdown",
      "source": [
        "**DA PROGRAM**"
      ],
      "metadata": {
        "id": "Z1cv2B1RV3E6"
      }
    },
    {
      "cell_type": "code",
      "source": [
        "%%cu\n",
        "#include <stdio.h>\n",
        "#include <stdlib.h>\n",
        "int main() {\n",
        "    printf(\"Hello world\");\n",
        "    return 0;\n",
        "}"
      ],
      "metadata": {
        "id": "QvmW0430V7HK"
      },
      "execution_count": null,
      "outputs": []
    },
    {
      "cell_type": "markdown",
      "source": [
        "\n",
        "\n",
        "---\n",
        "\n",
        "OPENMP"
      ],
      "metadata": {
        "id": "QBnO8__wWG_d"
      }
    },
    {
      "cell_type": "markdown",
      "source": [
        "da file"
      ],
      "metadata": {
        "id": "So7MbQCUXvC5"
      }
    },
    {
      "cell_type": "code",
      "source": [
        "%%cuda --name omp_cuda.cu\n",
        "#include <stdio.h>\n",
        "#include <omp.h>\n",
        "int main() {\n",
        "    printf(\"Hello world\");\n",
        "    return 0;\n",
        "}"
      ],
      "metadata": {
        "id": "MeAntQPpWIld"
      },
      "execution_count": null,
      "outputs": []
    },
    {
      "cell_type": "markdown",
      "source": [
        "da compile"
      ],
      "metadata": {
        "id": "ocgWxbOHXxMX"
      }
    },
    {
      "cell_type": "code",
      "source": [
        "!nvcc -Xcompiler=\"-fopenmp\" -arch=sm_75 -o /content/src/omp_cuda /content/src/omp_cuda.cu\n",
        "!/content/src/omp_cuda\n"
      ],
      "metadata": {
        "id": "mieisTBVXzrW"
      },
      "execution_count": null,
      "outputs": []
    },
    {
      "cell_type": "markdown",
      "source": [
        "example 1"
      ],
      "metadata": {
        "id": "BCX703K-aHGJ"
      }
    },
    {
      "cell_type": "code",
      "source": [
        "%%cuda --name example_1.cu\n",
        "#include<omp.h>\n",
        "#include<stdio.h>\n",
        "main ()\n",
        "{\n",
        "  int size, rank;\n",
        " \n",
        "  /* Создание множества параллельных процессов и в каждом из них задаются\n",
        "  * свои приватные переменные size и rank */\n",
        " \n",
        "  #pragma omp parallel private(size, rank)\n",
        "  {\n",
        "    /* Каждый процесс находит свой порядковый номер и выводит его на экран */\n",
        "   \n",
        "    rank = omp_get_thread_num();\n",
        "    printf(\"Hello World from thread = %d\\n\", rank);\n",
        "   \n",
        "    /* Главный процесс - master выводит на экран количество процессов */\n",
        "    if (rank == 0)\n",
        "    {\n",
        "     size = omp_get_num_threads();\n",
        "     printf(\"Number of threads = %d\\n\", size);\n",
        "    }\n",
        "  }\n",
        " \n",
        "  /* Завершение параллельной части */\n",
        " \n",
        "}"
      ],
      "metadata": {
        "colab": {
          "base_uri": "https://localhost:8080/"
        },
        "id": "hAJZLJ1zaJN5",
        "outputId": "ac6777a1-d58e-459b-b5a8-10483578cf08"
      },
      "execution_count": 12,
      "outputs": [
        {
          "output_type": "execute_result",
          "data": {
            "text/plain": [
              "'File written in /content/src/example_1.cu'"
            ],
            "application/vnd.google.colaboratory.intrinsic+json": {
              "type": "string"
            }
          },
          "metadata": {},
          "execution_count": 12
        }
      ]
    },
    {
      "cell_type": "code",
      "source": [
        "!nvcc -Xcompiler=\"-fopenmp\" -arch=sm_75 -o /content/src/example_1 /content/src/example_1.cu\n",
        "!/content/src/example_1"
      ],
      "metadata": {
        "colab": {
          "base_uri": "https://localhost:8080/"
        },
        "id": "CrJBBS5Pal_U",
        "outputId": "90635c28-da2f-4b54-8541-7824421777d0"
      },
      "execution_count": 13,
      "outputs": [
        {
          "output_type": "stream",
          "name": "stdout",
          "text": [
            "/content/src/example_1.cu(3): warning: return type \"int\" omitted in declaration of function \"main\"\n",
            "\n",
            "/content/src/example_1.cu(3): warning: return type \"int\" omitted in declaration of function \"main\"\n",
            "\n",
            "Hello World from thread = 1\n",
            "Hello World from thread = 0\n",
            "Number of threads = 2\n"
          ]
        }
      ]
    },
    {
      "cell_type": "code",
      "source": [
        "%%cuda --name example_2.cu\n",
        "#include <omp.h>\n",
        "#include<stdio.h>\n",
        "main ()\n",
        "{\n",
        "  int i, n;\n",
        "  float a[100], b[100], sum;\n",
        "  /* Инициализация элементов векторов */\n",
        "  n = 100;\n",
        "  for (i=0; i < n; i++)\n",
        "    a[i] = b[i] = i * 1.0;\n",
        "  sum = 0.0;\n",
        "  /* Создание множества параллельных процессов и распараллеливание\n",
        "  * цикла по виткам. При выходе из цикла все значения переменной sum\n",
        "  * суммируются по всем процессам. */\n",
        "  #pragma omp parallel for reduction(+:sum)\n",
        "    for (i=0; i < n; i++)\n",
        "      sum = sum + (a[i] * b[i]);\n",
        "  /* Главный процесс выводит на экран значение sum */\n",
        "  printf(\" Sum = %f\\n\",sum);\n",
        "}"
      ],
      "metadata": {
        "colab": {
          "base_uri": "https://localhost:8080/"
        },
        "id": "3Z6uvzxdd45I",
        "outputId": "0b6331c0-904a-4c3e-ab7d-efc808123752"
      },
      "execution_count": 15,
      "outputs": [
        {
          "output_type": "execute_result",
          "data": {
            "text/plain": [
              "'File written in /content/src/example_2.cu'"
            ],
            "application/vnd.google.colaboratory.intrinsic+json": {
              "type": "string"
            }
          },
          "metadata": {},
          "execution_count": 15
        }
      ]
    },
    {
      "cell_type": "code",
      "source": [
        "!nvcc -Xcompiler=\"-fopenmp\" -arch=sm_75 -o /content/src/example_2 /content/src/example_2.cu\n",
        "!/content/src/example_2"
      ],
      "metadata": {
        "colab": {
          "base_uri": "https://localhost:8080/"
        },
        "id": "SDlADj0qd8Fv",
        "outputId": "b7d22215-6ad6-42e3-dca8-b4b1768f878b"
      },
      "execution_count": 17,
      "outputs": [
        {
          "output_type": "stream",
          "name": "stdout",
          "text": [
            "/content/src/example_2.cu(3): warning: return type \"int\" omitted in declaration of function \"main\"\n",
            "\n",
            "/content/src/example_2.cu(3): warning: return type \"int\" omitted in declaration of function \"main\"\n",
            "\n",
            " Sum = 328350.000000\n"
          ]
        }
      ]
    },
    {
      "cell_type": "code",
      "source": [
        "%%cuda --name example_3.cu\n",
        "#include <omp.h>\n",
        "#include<stdio.h>\n",
        "#define VECLEN 100\n",
        "float a[VECLEN], b[VECLEN], sum;\n",
        "/* Подпрограмма, в которой суммируются элементы векторов */\n",
        "float dotprod()\n",
        "{\n",
        "  int i,rank;\n",
        "  rank = omp_get_thread_num();\n",
        "  #pragma omp for reduction(+:sum)\n",
        "  for (i=0; i < VECLEN; i++)\n",
        "  {\n",
        "    sum = sum + (a[i]*b[i]);\n",
        "    printf(\" rank = %d i=%d\\n\",rank,i);\n",
        "  }\n",
        "  return(sum);\n",
        "}\n",
        "main()\n",
        "{\n",
        "  int i;\n",
        "  /* Инициализация элементов векторов */\n",
        "  for (i=0; i < VECLEN; i++)\n",
        "    a[i] = b[i] = 1.0 * i;\n",
        "  sum = 0.0;\n",
        "  /* Создание множества параллельных процессов */\n",
        "  #pragma omp parallel\n",
        "    sum = dotprod();\n",
        "  printf(\"Sum = %f\\n\",sum);\n",
        "}"
      ],
      "metadata": {
        "colab": {
          "base_uri": "https://localhost:8080/"
        },
        "id": "eiEVwySBe_4a",
        "outputId": "e68bac1c-7b92-49ad-95a6-b49f7bd3a604"
      },
      "execution_count": 18,
      "outputs": [
        {
          "output_type": "execute_result",
          "data": {
            "text/plain": [
              "'File written in /content/src/example_3.cu'"
            ],
            "application/vnd.google.colaboratory.intrinsic+json": {
              "type": "string"
            }
          },
          "metadata": {},
          "execution_count": 18
        }
      ]
    },
    {
      "cell_type": "code",
      "source": [
        "!nvcc -Xcompiler=\"-fopenmp\" -arch=sm_75 -o /content/src/example_3 /content/src/example_3.cu\n",
        "!/content/src/example_3"
      ],
      "metadata": {
        "id": "nDEb9aT9fb2b"
      },
      "execution_count": null,
      "outputs": []
    },
    {
      "cell_type": "code",
      "source": [
        "%%cuda --name example_4.cu\n",
        "#include <omp.h>\n",
        "#include<stdio.h>\n",
        "#define N 50\n",
        "main()\n",
        "{\n",
        "  int i, size, rank;\n",
        "  float a[N], b[N], c[N];\n",
        "  /* Инициализация элементов векторов */\n",
        "  for (i=0; i < N; i++)\n",
        "    a[i] = b[i] = i * 1.0;\n",
        "  /* Создание множества параллельных процессов */\n",
        "  #pragma omp parallel shared(a,b,c) private(i,rank,size)\n",
        "  {\n",
        "    /* Каждый процесс находит свой порядковый номер и выводит его на экран */\n",
        "    rank = omp_get_thread_num();\n",
        "    printf(\"Thread %d starting...\\n\",rank);\n",
        "    /* Директива задания секций */\n",
        "    #pragma omp sections nowait\n",
        "    {\n",
        "      /* Секция 0*/\n",
        "      #pragma omp section\n",
        "      for (i=0; i < N/2; i++)\n",
        "      {\n",
        "        c[i] = a[i] + b[i];\n",
        "        printf(\"rank = %d i= %d c[i]= %f\\n\", rank,i,c[i]);\n",
        "      }\n",
        "      /* Секция 1*/\n",
        "      #pragma omp section\n",
        "      for (i=N/2; i < N; i++)\n",
        "      {\n",
        "        c[i] = a[i] + b[i];\n",
        "        printf(\"rank = %d i= %d c[i]= %f\\n\",\n",
        "        rank,i,c[i]);\n",
        "      }\n",
        "    } /* Завершение блока секций */\n",
        "    if (rank == 0)\n",
        "    {\n",
        "      size = omp_get_num_threads();\n",
        "      printf(\"Number of threads = %d\\n\", size);\n",
        "    }\n",
        "  } /* Завершение параллельной части */\n",
        "}"
      ],
      "metadata": {
        "colab": {
          "base_uri": "https://localhost:8080/"
        },
        "id": "3cK84abTf4nX",
        "outputId": "26672244-5b02-4637-adbf-9dff8f9a1fa4"
      },
      "execution_count": 20,
      "outputs": [
        {
          "output_type": "execute_result",
          "data": {
            "text/plain": [
              "'File written in /content/src/example_4.cu'"
            ],
            "application/vnd.google.colaboratory.intrinsic+json": {
              "type": "string"
            }
          },
          "metadata": {},
          "execution_count": 20
        }
      ]
    },
    {
      "cell_type": "code",
      "source": [
        "!nvcc -Xcompiler=\"-fopenmp\" -arch=sm_75 -o /content/src/example_4 /content/src/example_4.cu\n",
        "!/content/src/example_4"
      ],
      "metadata": {
        "id": "5gXexz6BgeNr"
      },
      "execution_count": null,
      "outputs": []
    },
    {
      "cell_type": "code",
      "source": [
        "%%cuda --name example_5.cu\n",
        "#include <omp.h>\n",
        "#include<stdio.h>\n",
        "#define M 10\n",
        "main()\n",
        "{\n",
        "  float A[M][M], b[M], c[M];\n",
        "  int i, j, rank;\n",
        "  int total;\n",
        "  /* Инициализация данных */\n",
        "  for (i=0; i < M; i++)\n",
        "  {\n",
        "    for (j=0; j < M; j++)\n",
        "    A[i][j] = (j+1) * 1.0;\n",
        "    b[i] = 1.0 * (i+1);\n",
        "    c[i] = 0.0;\n",
        "  }\n",
        "  printf(\"\\Вывод значений матрицы A и вектора b на экран:\\n\");\n",
        "  for (i=0; i < M; i++)\n",
        "  {\n",
        "    printf(\" A[%d]= \",i);\n",
        "    for (j=0; j < M; j++)\n",
        "      printf(\"%.1f \",A[i][j]);\n",
        "    printf(\" b[%d]= %.1f\\n\",i,b[i]);\n",
        "  }\n",
        "  /* Создание множества параллельных процессов и в каждом из них задаются\n",
        "  * свои приватные переменные rank и i*/\n",
        "  #pragma omp parallel shared(A,b,c,total) private(rank,i)\n",
        "  {\n",
        "    rank = omp_get_thread_num();\n",
        "    /* Директива распараллеливания цикла по виткам */\n",
        "    #pragma omp for private(j)\n",
        "      for (i=0; i < M; i++)\n",
        "      {\n",
        "        for (j=0; j < M; j++)\n",
        "          c[i] += (A[i][j] * b[j]);\n",
        "          /* Каждый процесс выводит свой порядковый номер, значение витка цикла и\n",
        "          * значение результирующего вектора на каждом витке цикла и внутри\n",
        "          * критической секции */\n",
        "        #pragma omp critical\n",
        "        {\n",
        "          printf(\" rank= %d i= %d c[%d]=%.2f\\n\", rank,i,c[i]);\n",
        "        }\n",
        "       }\n",
        "   /* Конец параллельного цикла */\n",
        "  }\n",
        " /* Завершение параллельной конструкции */\n",
        "}"
      ],
      "metadata": {
        "colab": {
          "base_uri": "https://localhost:8080/"
        },
        "id": "ID3n4V_0g8LX",
        "outputId": "1f79a003-d06e-4414-817c-199a20d6f596"
      },
      "execution_count": 24,
      "outputs": [
        {
          "output_type": "execute_result",
          "data": {
            "text/plain": [
              "'File written in /content/src/example_5.cu'"
            ],
            "application/vnd.google.colaboratory.intrinsic+json": {
              "type": "string"
            }
          },
          "metadata": {},
          "execution_count": 24
        }
      ]
    },
    {
      "cell_type": "code",
      "source": [
        "!nvcc -Xcompiler=\"-fopenmp\" -arch=sm_75 -o /content/src/example_5 /content/src/example_5.cu\n",
        "!/content/src/example_5"
      ],
      "metadata": {
        "id": "5EmTApf6g7-m"
      },
      "execution_count": null,
      "outputs": []
    },
    {
      "cell_type": "code",
      "source": [
        "%%cuda --name 5.cu\n",
        "#include <omp.h>\n",
        "#include<stdio.h>\n",
        "#define M 10\n",
        "main()\n",
        "{\n",
        "  float A[M][M], B[M][M], C[M][M];\n",
        "  int i, j, k, rank;\n",
        "  int total;\n",
        "  /* Инициализация данных */\n",
        "  for (i=0; i < M; i++)\n",
        "  {\n",
        "    for (j=0; j < M; j++)\n",
        "    {\n",
        "      A[i][j] = (j+1) * 1.0;\n",
        "      B[i][j] = (j+1) * 2.0;\n",
        "      C[i][j] = 0.0;\n",
        "    }\n",
        "  }\n",
        "  printf(\"\\Вывод значений матрицы A:\\n\");\n",
        "  for (i=0; i < M; i++)\n",
        "  {\n",
        "    printf(\" A[%d]= \",i);\n",
        "    for (j=0; j < M; j++)\n",
        "      printf(\"%.1f \",A[i][j]);\n",
        "    printf(\"\\n\");\n",
        "  }\n",
        "  printf(\"\\Вывод значений матрицы B:\\n\");\n",
        "  for (i=0; i < M; i++)\n",
        "  {\n",
        "    printf(\" B[%d]= \",i);\n",
        "    for (j=0; j < M; j++)\n",
        "      printf(\"%.1f \",B[i][j]);\n",
        "    printf(\"\\n\");\n",
        "  }\n",
        "  /* Создание множества параллельных процессов и в каждом из них задаются\n",
        "  * свои приватные переменные rank и i*/\n",
        "  #pragma omp parallel shared(A,B,C,total) private(rank,i,j)\n",
        "  {\n",
        "    rank = omp_get_thread_num();\n",
        "    /* Директива распараллеливания цикла по виткам */\n",
        "    #pragma omp for private(k)\n",
        "      for (i=0; i < M; i++)\n",
        "      {\n",
        "        for (j=0; j < M; j++)\n",
        "        {\n",
        "            for (k=0; k < M; k++)\n",
        "            {\n",
        "              C[i][j] += A[i][k] * B[k][j];\n",
        "            }\n",
        "        /* Каждый процесс выводит свой порядковый номер, значение витка цикла и\n",
        "        * значение результирующего вектора на каждом витке цикла и внутри\n",
        "        * критической секции */\n",
        "        #pragma omp critical\n",
        "        {\n",
        "          printf(\" rank= %d i= %d j= %d C[%d,%d]=%.2f\\n\", rank,i,j,i,j,C[i,j]);\n",
        "        }\n",
        "        }\n",
        "       }\n",
        "   /* Конец параллельного цикла */\n",
        "  }\n",
        " /* Завершение параллельной конструкции */\n",
        "}"
      ],
      "metadata": {
        "colab": {
          "base_uri": "https://localhost:8080/"
        },
        "id": "yU-NuxaXi93W",
        "outputId": "a1efc04a-330e-4f6e-be8a-1e973d001695"
      },
      "execution_count": 37,
      "outputs": [
        {
          "output_type": "execute_result",
          "data": {
            "text/plain": [
              "'File written in /content/src/5.cu'"
            ],
            "application/vnd.google.colaboratory.intrinsic+json": {
              "type": "string"
            }
          },
          "metadata": {},
          "execution_count": 37
        }
      ]
    },
    {
      "cell_type": "code",
      "source": [
        "!nvcc -Xcompiler=\"-fopenmp\" -arch=sm_75 -o /content/src/5 /content/src/5.cu\n",
        "!/content/src/5"
      ],
      "metadata": {
        "colab": {
          "base_uri": "https://localhost:8080/"
        },
        "id": "avudF8N7i8sX",
        "outputId": "4173155d-2c46-429c-8d0d-ada14351199b"
      },
      "execution_count": 38,
      "outputs": [
        {
          "output_type": "stream",
          "name": "stdout",
          "text": [
            "/content/src/5.cu(4): warning: return type \"int\" omitted in declaration of function \"main\"\n",
            "\n",
            "/content/src/5.cu(19): warning: unrecognized character escape sequence\n",
            "\n",
            "/content/src/5.cu(27): warning: unrecognized character escape sequence\n",
            "\n",
            "/content/src/5.cu(55): warning: expression has no effect\n",
            "\n",
            "/content/src/5.cu(8): warning: variable \"total\" was declared but never referenced\n",
            "\n",
            "/content/src/5.cu(4): warning: return type \"int\" omitted in declaration of function \"main\"\n",
            "\n",
            "/content/src/5.cu(19): warning: unrecognized character escape sequence\n",
            "\n",
            "/content/src/5.cu(27): warning: unrecognized character escape sequence\n",
            "\n",
            "/content/src/5.cu(55): warning: expression has no effect\n",
            "\n",
            "\u001b[01m\u001b[K/content/src/5.cu:\u001b[m\u001b[K In function ‘\u001b[01m\u001b[Kint main()\u001b[m\u001b[K’:\n",
            "\u001b[01m\u001b[K/content/src/5.cu:55:74:\u001b[m\u001b[K \u001b[01;35m\u001b[Kwarning: \u001b[m\u001b[Kformat ‘\u001b[01m\u001b[K%f\u001b[m\u001b[K’ expects argument of type ‘\u001b[01m\u001b[Kdouble\u001b[m\u001b[K’, but argument 7 has type ‘\u001b[01m\u001b[Kfloat*\u001b[m\u001b[K’ [\u001b[01;35m\u001b[K-Wformat=\u001b[m\u001b[K]\n",
            "           printf(\" rank= %d i= %d j= %d C[%d,%d]=%.2f\\n\", rank,i,j,i,j,C[\u001b[01;35m\u001b[Ki\u001b[m\u001b[K,j]);\n",
            "                                                                          \u001b[01;35m\u001b[K^\u001b[m\u001b[K\n",
            "Вывод значений матрицы A:\n",
            " A[0]= 1.0 2.0 3.0 4.0 5.0 6.0 7.0 8.0 9.0 10.0 \n",
            " A[1]= 1.0 2.0 3.0 4.0 5.0 6.0 7.0 8.0 9.0 10.0 \n",
            " A[2]= 1.0 2.0 3.0 4.0 5.0 6.0 7.0 8.0 9.0 10.0 \n",
            " A[3]= 1.0 2.0 3.0 4.0 5.0 6.0 7.0 8.0 9.0 10.0 \n",
            " A[4]= 1.0 2.0 3.0 4.0 5.0 6.0 7.0 8.0 9.0 10.0 \n",
            " A[5]= 1.0 2.0 3.0 4.0 5.0 6.0 7.0 8.0 9.0 10.0 \n",
            " A[6]= 1.0 2.0 3.0 4.0 5.0 6.0 7.0 8.0 9.0 10.0 \n",
            " A[7]= 1.0 2.0 3.0 4.0 5.0 6.0 7.0 8.0 9.0 10.0 \n",
            " A[8]= 1.0 2.0 3.0 4.0 5.0 6.0 7.0 8.0 9.0 10.0 \n",
            " A[9]= 1.0 2.0 3.0 4.0 5.0 6.0 7.0 8.0 9.0 10.0 \n",
            "Вывод значений матрицы B:\n",
            " B[0]= 2.0 4.0 6.0 8.0 10.0 12.0 14.0 16.0 18.0 20.0 \n",
            " B[1]= 2.0 4.0 6.0 8.0 10.0 12.0 14.0 16.0 18.0 20.0 \n",
            " B[2]= 2.0 4.0 6.0 8.0 10.0 12.0 14.0 16.0 18.0 20.0 \n",
            " B[3]= 2.0 4.0 6.0 8.0 10.0 12.0 14.0 16.0 18.0 20.0 \n",
            " B[4]= 2.0 4.0 6.0 8.0 10.0 12.0 14.0 16.0 18.0 20.0 \n",
            " B[5]= 2.0 4.0 6.0 8.0 10.0 12.0 14.0 16.0 18.0 20.0 \n",
            " B[6]= 2.0 4.0 6.0 8.0 10.0 12.0 14.0 16.0 18.0 20.0 \n",
            " B[7]= 2.0 4.0 6.0 8.0 10.0 12.0 14.0 16.0 18.0 20.0 \n",
            " B[8]= 2.0 4.0 6.0 8.0 10.0 12.0 14.0 16.0 18.0 20.0 \n",
            " B[9]= 2.0 4.0 6.0 8.0 10.0 12.0 14.0 16.0 18.0 20.0 \n",
            " rank= 0 i= 0 j= 0 C[0,0]=0.00\n",
            " rank= 0 i= 0 j= 1 C[0,1]=0.00\n",
            " rank= 0 i= 0 j= 2 C[0,2]=0.00\n",
            " rank= 0 i= 0 j= 3 C[0,3]=0.00\n",
            " rank= 0 i= 0 j= 4 C[0,4]=0.00\n",
            " rank= 0 i= 0 j= 5 C[0,5]=0.00\n",
            " rank= 0 i= 0 j= 6 C[0,6]=0.00\n",
            " rank= 0 i= 0 j= 7 C[0,7]=0.00\n",
            " rank= 0 i= 0 j= 8 C[0,8]=0.00\n",
            " rank= 0 i= 0 j= 9 C[0,9]=0.00\n",
            " rank= 0 i= 1 j= 0 C[1,0]=0.00\n",
            " rank= 0 i= 1 j= 1 C[1,1]=0.00\n",
            " rank= 0 i= 1 j= 2 C[1,2]=0.00\n",
            " rank= 0 i= 1 j= 3 C[1,3]=0.00\n",
            " rank= 0 i= 1 j= 4 C[1,4]=0.00\n",
            " rank= 0 i= 1 j= 5 C[1,5]=0.00\n",
            " rank= 0 i= 1 j= 6 C[1,6]=0.00\n",
            " rank= 0 i= 1 j= 7 C[1,7]=0.00\n",
            " rank= 0 i= 1 j= 8 C[1,8]=0.00\n",
            " rank= 0 i= 1 j= 9 C[1,9]=0.00\n",
            " rank= 0 i= 2 j= 0 C[2,0]=0.00\n",
            " rank= 0 i= 2 j= 1 C[2,1]=0.00\n",
            " rank= 0 i= 2 j= 2 C[2,2]=0.00\n",
            " rank= 0 i= 2 j= 3 C[2,3]=0.00\n",
            " rank= 0 i= 2 j= 4 C[2,4]=0.00\n",
            " rank= 0 i= 2 j= 5 C[2,5]=0.00\n",
            " rank= 0 i= 2 j= 6 C[2,6]=0.00\n",
            " rank= 0 i= 2 j= 7 C[2,7]=0.00\n",
            " rank= 0 i= 2 j= 8 C[2,8]=0.00\n",
            " rank= 0 i= 2 j= 9 C[2,9]=0.00\n",
            " rank= 0 i= 3 j= 0 C[3,0]=0.00\n",
            " rank= 0 i= 3 j= 1 C[3,1]=0.00\n",
            " rank= 0 i= 3 j= 2 C[3,2]=0.00\n",
            " rank= 0 i= 3 j= 3 C[3,3]=0.00\n",
            " rank= 0 i= 3 j= 4 C[3,4]=0.00\n",
            " rank= 0 i= 3 j= 5 C[3,5]=0.00\n",
            " rank= 0 i= 3 j= 6 C[3,6]=0.00\n",
            " rank= 0 i= 3 j= 7 C[3,7]=0.00\n",
            " rank= 0 i= 3 j= 8 C[3,8]=0.00\n",
            " rank= 0 i= 3 j= 9 C[3,9]=0.00\n",
            " rank= 0 i= 4 j= 0 C[4,0]=0.00\n",
            " rank= 0 i= 4 j= 1 C[4,1]=0.00\n",
            " rank= 0 i= 4 j= 2 C[4,2]=0.00\n",
            " rank= 0 i= 4 j= 3 C[4,3]=0.00\n",
            " rank= 0 i= 4 j= 4 C[4,4]=0.00\n",
            " rank= 0 i= 4 j= 5 C[4,5]=0.00\n",
            " rank= 0 i= 4 j= 6 C[4,6]=0.00\n",
            " rank= 0 i= 4 j= 7 C[4,7]=0.00\n",
            " rank= 0 i= 4 j= 8 C[4,8]=0.00\n",
            " rank= 0 i= 4 j= 9 C[4,9]=0.00\n",
            " rank= 1 i= 5 j= 0 C[5,0]=0.00\n",
            " rank= 1 i= 5 j= 1 C[5,1]=0.00\n",
            " rank= 1 i= 5 j= 2 C[5,2]=0.00\n",
            " rank= 1 i= 5 j= 3 C[5,3]=0.00\n",
            " rank= 1 i= 5 j= 4 C[5,4]=0.00\n",
            " rank= 1 i= 5 j= 5 C[5,5]=0.00\n",
            " rank= 1 i= 5 j= 6 C[5,6]=0.00\n",
            " rank= 1 i= 5 j= 7 C[5,7]=0.00\n",
            " rank= 1 i= 5 j= 8 C[5,8]=0.00\n",
            " rank= 1 i= 5 j= 9 C[5,9]=0.00\n",
            " rank= 1 i= 6 j= 0 C[6,0]=0.00\n",
            " rank= 1 i= 6 j= 1 C[6,1]=0.00\n",
            " rank= 1 i= 6 j= 2 C[6,2]=0.00\n",
            " rank= 1 i= 6 j= 3 C[6,3]=0.00\n",
            " rank= 1 i= 6 j= 4 C[6,4]=0.00\n",
            " rank= 1 i= 6 j= 5 C[6,5]=0.00\n",
            " rank= 1 i= 6 j= 6 C[6,6]=0.00\n",
            " rank= 1 i= 6 j= 7 C[6,7]=0.00\n",
            " rank= 1 i= 6 j= 8 C[6,8]=0.00\n",
            " rank= 1 i= 6 j= 9 C[6,9]=0.00\n",
            " rank= 1 i= 7 j= 0 C[7,0]=0.00\n",
            " rank= 1 i= 7 j= 1 C[7,1]=0.00\n",
            " rank= 1 i= 7 j= 2 C[7,2]=0.00\n",
            " rank= 1 i= 7 j= 3 C[7,3]=0.00\n",
            " rank= 1 i= 7 j= 4 C[7,4]=0.00\n",
            " rank= 1 i= 7 j= 5 C[7,5]=0.00\n",
            " rank= 1 i= 7 j= 6 C[7,6]=0.00\n",
            " rank= 1 i= 7 j= 7 C[7,7]=0.00\n",
            " rank= 1 i= 7 j= 8 C[7,8]=0.00\n",
            " rank= 1 i= 7 j= 9 C[7,9]=0.00\n",
            " rank= 1 i= 8 j= 0 C[8,0]=0.00\n",
            " rank= 1 i= 8 j= 1 C[8,1]=0.00\n",
            " rank= 1 i= 8 j= 2 C[8,2]=0.00\n",
            " rank= 1 i= 8 j= 3 C[8,3]=0.00\n",
            " rank= 1 i= 8 j= 4 C[8,4]=0.00\n",
            " rank= 1 i= 8 j= 5 C[8,5]=0.00\n",
            " rank= 1 i= 8 j= 6 C[8,6]=0.00\n",
            " rank= 1 i= 8 j= 7 C[8,7]=0.00\n",
            " rank= 1 i= 8 j= 8 C[8,8]=0.00\n",
            " rank= 1 i= 8 j= 9 C[8,9]=0.00\n",
            " rank= 1 i= 9 j= 0 C[9,0]=0.00\n",
            " rank= 1 i= 9 j= 1 C[9,1]=0.00\n",
            " rank= 1 i= 9 j= 2 C[9,2]=0.00\n",
            " rank= 1 i= 9 j= 3 C[9,3]=0.00\n",
            " rank= 1 i= 9 j= 4 C[9,4]=0.00\n",
            " rank= 1 i= 9 j= 5 C[9,5]=0.00\n",
            " rank= 1 i= 9 j= 6 C[9,6]=0.00\n",
            " rank= 1 i= 9 j= 7 C[9,7]=0.00\n",
            " rank= 1 i= 9 j= 8 C[9,8]=0.00\n",
            " rank= 1 i= 9 j= 9 C[9,9]=0.00\n"
          ]
        }
      ]
    }
  ]
}